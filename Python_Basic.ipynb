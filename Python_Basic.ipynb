{
  "nbformat": 4,
  "nbformat_minor": 0,
  "metadata": {
    "colab": {
      "provenance": []
    },
    "kernelspec": {
      "name": "python3",
      "display_name": "Python 3"
    },
    "language_info": {
      "name": "python"
    }
  },
  "cells": [
    {
      "cell_type": "markdown",
      "source": [
        "#Python Basic"
      ],
      "metadata": {
        "id": "p2GqNr6bbReG"
      }
    },
    {
      "cell_type": "markdown",
      "source": [
        "#Theoratical Questions\n",
        "\n",
        "**1. What is Python, and why is it popular ?**\n",
        "\n",
        "- Python is a versatile, high-level programming language known for its readability and ease of use, making it popular for various applications, including web development, data science, and machine learning. Its popularity stems from its extensive libraries, large community, and ability to be used for a wide range of tasks.\n",
        "\n",
        "**2. What is an interpreter in Python ?**\n",
        "- In Python, an interpreter is a program that reads and executes Python code line by line, translating it into machine-readable instructions and then executing them.  \n",
        "\n",
        "**3. What are pre-defined keywords in Python ?**\n",
        "- Keywords are reserved words in Python that have special meanings and cannot be used as identifiers (variable names, function names, etc.)\n",
        "- E.g. if, else, while, for, def, class, import, try, except, return, True, False, None, etc.\n",
        "- Keywords are case-Sensitive and cannot be redefine and overridden within the same program.\n",
        "\n",
        "**4. Can keywords be used as variable names ?**\n",
        "- In python, We cannot use the keyword as variable's name. Because, keywords are reserved word in python.\n",
        "\n",
        "**5. What is mutability in Python ?**\n",
        "- In python, Mutability is refers to an object's ability to be changed after it's created.\n",
        "- Mutable object can be modified in place, while immutable object cannot.\n",
        "- E.g. Lists, dictionaries, etc...\n",
        "\n",
        "**6. Why are lists mutable, but tuples are immutable ?**\n",
        "- Lists are mutable, Because we can modify/change the lists.\n",
        "- Tuples are immutable, Because we cannot modify/change the tuples.\n",
        "\n",
        "**7. What is the difference between “==” and “is” operators in Python  ?**\n",
        "- \"==\" is the **\"equality operator\"**.\n",
        "- This is used to check value equality.\n",
        "- This operater compare between two values.\n",
        "- \"is\" is the **\"Identity operator\"**.\n",
        "- This checks for objects identity.\n",
        "- This operator checks if two variables refers to the same object in memory.\n",
        "\n",
        "**8. What are logical operators in Python ?**\n",
        "- In python, Logical operators areused on conditional statements (either True or False).\n",
        "- There are three types of logical operator in python :\n",
        "1.   AND operator\n",
        "2.   OR operator\n",
        "3.   NOT operator\n",
        "\n",
        "**9. What are type casting in Python ?**\n",
        "- Type casting, also referred to as type conversion, is the process of changing one data type to another in Python.\n",
        "- Python provides built-in functions for type casting, Like, int(), float(), str(), list(), tuple(), dict(), etc...\n",
        "- Type casting is often necessary for performing arithmetic operations, data manipulation, and input/output operations in Python programs.\n",
        "\n",
        "**10. What is the difference between implicit and explicit type casting ?**\n",
        "\n",
        "  **Implicit Type Casting:**\n",
        "\n",
        "- It occurs automatically when a value of one data type is assigned to a variable of a different, compatible data type.\n",
        "- The compiler handles the conversion without any special syntax or instructions from the programmer.\n",
        "- E.g. int to long, float to double, etc...\n",
        "- Implicit casting is generally safe and does not lead to data loss in most cases.\n",
        "\n",
        "**Explicit Type Casting:**\n",
        "\n",
        "- Requires the programmer to use a cast operator to explicitly convert a value from one data type to another.\n",
        "- Used when converting to a type that is not automatically convertible, or when the programmer wants to force a conversion that might otherwise be disallowed.\n",
        "- E.g. include converting a floating-point number to an integer (which may lead to data loss), or converting a base class pointer to a derived class pointer.\n",
        "- Explicit casting can potentially lead to data loss or unexpected results if not used carefully.\n",
        "\n",
        "**11. What is the purpose of conditional statements in Python ?**\n",
        "- The purpose of conditional statements in python is to enable decision-making, implement branching logic, and control the flow of execution based on specific conditions.\n",
        "\n",
        "**12. How does the elif statement work ?**\n",
        "- The “elif” keyword in Python, stands for “else if”. It can be used in conditional statements to check for multiple conditions. For example, if the first condition is false, it moves on to the next “elif” statement to check if that condition is true.\n",
        "\n",
        "**13. What is the difference between for and while loops ?**\n",
        "**for loop:**\n",
        "- It is ideal for iterating over a sequence (like a list, array, or string) where the number of iterations is known in advance.\n",
        "- You can think of it as a structured way to repeat a block of code a specific number of times.\n",
        "- E.g. Printing numbers from 1 to 10.\n",
        "\n",
        "**while loop:**\n",
        "- Used when the number of iterations is not known beforehand, and the loop continues as long as a condition remains true.\n",
        "- The loop body is executed repeatedly until the condition becomes false.\n",
        "- E.g. Asking a user for input until they enter a valid value.\n",
        "\n",
        "\n",
        "**14.Describe a scenario where a while loop is more suitable than a for loop.**\n",
        "- A 'While Loop' is more appropriate when you need to iterate until a condition is met without knowing the number of iterations in advance.\n",
        "- This makes it suitable for situations like processing user guesses for a secret number."
      ],
      "metadata": {
        "id": "ac8ko38RbXz7"
      }
    },
    {
      "cell_type": "markdown",
      "source": [
        "#Practical Questions"
      ],
      "metadata": {
        "id": "cQMHdB5Mg9BL"
      }
    },
    {
      "cell_type": "code",
      "source": [
        "#1. Write a Python program to print \"Hello,World!\"\n",
        "print(\"Hello World!!\")\n"
      ],
      "metadata": {
        "id": "JnPtAsn0WBj4"
      },
      "execution_count": null,
      "outputs": []
    },
    {
      "cell_type": "code",
      "source": [
        "#2. Write a Python program that displays your name and age.\n",
        "print(\"Name: Bhavesh Tanwani\\nAge: 18\")\n"
      ],
      "metadata": {
        "id": "Gz7l5aRSWBdY"
      },
      "execution_count": null,
      "outputs": []
    },
    {
      "cell_type": "code",
      "source": [
        "#3. Write code to print all the pre-defined keywords in Python using the keyword library\n",
        "\n",
        "import keyword\n",
        "# Print all Python keywords\n",
        "print(keyword.kwlist)\n"
      ],
      "metadata": {
        "id": "PWcZ3oyEWBWA"
      },
      "execution_count": null,
      "outputs": []
    },
    {
      "cell_type": "code",
      "source": [
        "#4. Write a program that checks if a given word is a Python keyword.\n",
        "\n",
        "import keyword\n",
        "# Input word from the user\n",
        "word = input(\"Enter a word to check if it's a Python keyword: \")\n",
        "# Check if the word is a Python keyword\n",
        "if keyword.iskeyword(word):\n",
        "    print(f\"'{word}' is a Python keyword.\")\n",
        "else:\n",
        "    print(f\"'{word}' is not a Python keyword.\")"
      ],
      "metadata": {
        "id": "XP6P7JVhWBMh"
      },
      "execution_count": null,
      "outputs": []
    },
    {
      "cell_type": "code",
      "source": [
        "#5. Create a list and tuple in Python, and demonstrate how attempting to change an element works differently for each.\n",
        "\n",
        "#List: A list is mutable, meaning you can modify its elements.\n",
        "\n",
        "# Creating a list\n",
        "my_list = [1, 2, 3, 4]\n",
        "\n",
        "# Changing an element in the list\n",
        "my_list[2] = 10\n",
        "\n",
        "print(\"List after modification:\", my_list)\n",
        "\n",
        "#Tuple: A tuple is immutable, meaning you cannot modify its elements once it is created.\n",
        "\n",
        "# Creating a tuple\n",
        "my_tuple = (1, 2, 3, 4)\n",
        "\n",
        "# Attempting to change an element in the tuple (This will cause an error)\n",
        "try:\n",
        "    my_tuple[2] = 10\n",
        "except TypeError as e:\n",
        "    print(\"Error:\", e)\n",
        "\n",
        "#Explanation:\n",
        "#List: After modifying the list, the value at index 2 was successfully changed from 3 to 10.\n",
        "#Tuple: Attempting to change the tuple results in a TypeError, as tuples are immutable, and their elements cannot be modified once created."
      ],
      "metadata": {
        "id": "8v6YagGMWA6B"
      },
      "execution_count": null,
      "outputs": []
    },
    {
      "cell_type": "code",
      "source": [
        "#6. Write a function to demonstrate the behavior of mutable and immutable arguments.\n",
        "def demonstrate_mutable_immutable():\n",
        "    # Immutable example: integer\n",
        "    x = 10\n",
        "    print(\"Before modifying x (immutable):\", x)\n",
        "\n",
        "    def modify_immutable(x):\n",
        "        x += 5\n",
        "        print(\"Inside modify_immutable:\", x)\n",
        "\n",
        "    modify_immutable(x)\n",
        "    print(\"After modify_immutable (immutable):\", x)\n",
        "\n",
        "    # Mutable example: list\n",
        "    lst = [1, 2, 3]\n",
        "    print(\"\\nBefore modifying lst (mutable):\", lst)\n",
        "\n",
        "    def modify_mutable(lst):\n",
        "        lst.append(4)\n",
        "        print(\"Inside modify_mutable:\", lst)\n",
        "\n",
        "    modify_mutable(lst)\n",
        "    print(\"After modify_mutable (mutable):\", lst)\n",
        "\n",
        "\n",
        "# Run the demonstration\n",
        "demonstrate_mutable_immutable()"
      ],
      "metadata": {
        "id": "AxiH-NAqhBKj"
      },
      "execution_count": null,
      "outputs": []
    },
    {
      "cell_type": "code",
      "source": [
        "#7. Write a program that performs basic arithmetic operations on two user-input numbers.\n",
        "num1 = int(input('Enter First number: '))\n",
        "num2 = int(input('Enter Second number '))\n",
        "add = num1 + num2\n",
        "dif = num1 - num2\n",
        "mul = num1 * num2\n",
        "div = num1 / num2\n",
        "floor_div = num1 // num2\n",
        "power = num1 ** num2\n",
        "modulus = num1 % num2\n",
        "print('Sum of ',num1 ,'and' ,num2 ,'is :',add)\n",
        "print('Difference of ',num1 ,'and' ,num2 ,'is :',dif)\n",
        "print('Product of' ,num1 ,'and' ,num2 ,'is :',mul)\n",
        "print('Division of ',num1 ,'and' ,num2 ,'is :',div)\n",
        "print('Floor Division of ',num1 ,'and' ,num2 ,'is :',floor_div)\n",
        "print('Exponent of ',num1 ,'and' ,num2 ,'is :',power)\n",
        "print('Modulus of ',num1 ,'and' ,num2 ,'is :',modulus)"
      ],
      "metadata": {
        "id": "t-g5RfIiW6_A"
      },
      "execution_count": null,
      "outputs": []
    },
    {
      "cell_type": "code",
      "source": [
        "#8. Write a program to demonstrate the use of logical operators\n",
        "\n",
        "# Function to demonstrate logical operators\n",
        "def logical_operators_demo():\n",
        "    # Taking two Boolean inputs from the user\n",
        "    value1 = input(\"Enter the first Boolean value (True/False): \").strip().capitalize()\n",
        "    value2 = input(\"Enter the second Boolean value (True/False): \").strip().capitalize()\n",
        "\n",
        "    # Convert input values to Boolean (True or False)\n",
        "    if value1 == 'True':\n",
        "        value1 = True\n",
        "    elif value1 == 'False':\n",
        "        value1 = False\n",
        "    else:\n",
        "        print(\"Invalid input for first Boolean value\")\n",
        "        return\n",
        "\n",
        "    if value2 == 'True':\n",
        "        value2 = True\n",
        "    elif value2 == 'False':\n",
        "        value2 = False\n",
        "    else:\n",
        "        print(\"Invalid input for second Boolean value\")\n",
        "        return\n",
        "\n",
        "    # Logical AND\n",
        "    print(f\"\\nLogical AND (value1 and value2): {value1 and value2}\")\n",
        "\n",
        "    # Logical OR\n",
        "    print(f\"Logical OR (value1 or value2): {value1 or value2}\")\n",
        "\n",
        "    # Logical NOT for value1 and value2\n",
        "    print(f\"Logical NOT for value1 (not value1): {not value1}\")\n",
        "    print(f\"Logical NOT for value2 (not value2): {not value2}\")\n",
        "\n",
        "# Run the function\n",
        "logical_operators_demo()"
      ],
      "metadata": {
        "id": "oYT-ZGFUXAgf"
      },
      "execution_count": null,
      "outputs": []
    },
    {
      "cell_type": "code",
      "source": [
        "#9. Write a Python program to convert user input from string to integer, float, and boolean types.\n",
        "\n",
        "# Function to demonstrate type conversions\n",
        "def type_conversion_demo():\n",
        "    # Taking input from the user\n",
        "    user_input = input(\"Enter a value: \")\n",
        "\n",
        "    # Convert input to integer\n",
        "    try:\n",
        "        int_value = int(user_input)\n",
        "        print(f\"Converted to integer: {int_value}\")\n",
        "    except ValueError:\n",
        "        print(\"Could not convert to integer.\")\n",
        "\n",
        "    # Convert input to float\n",
        "    try:\n",
        "        float_value = float(user_input)\n",
        "        print(f\"Converted to float: {float_value}\")\n",
        "    except ValueError:\n",
        "        print(\"Could not convert to float.\")\n",
        "\n",
        "    # Convert input to boolean\n",
        "    # Empty string and \"0\" are considered False, any non-empty string is True\n",
        "    bool_value = bool(user_input)\n",
        "    print(f\"Converted to boolean: {bool_value}\")\n",
        "\n",
        "# Run the function\n",
        "type_conversion_demo()"
      ],
      "metadata": {
        "id": "QNc31Kn-XDgg"
      },
      "execution_count": null,
      "outputs": []
    },
    {
      "cell_type": "code",
      "source": [
        "#10. Write code to demonstrate type casting with list elements.\n",
        "\n",
        "# Function to demonstrate type casting with list elements\n",
        "def type_casting_with_list():\n",
        "    # List containing elements of different types\n",
        "    mixed_list = ['1', '2.5', 3, 4.5, True]\n",
        "\n",
        "    print(\"Original list:\", mixed_list)\n",
        "\n",
        "    # Convert all elements in the list to integers\n",
        "    int_list = [int(float(i)) if isinstance(i, str) or isinstance(i, float) else int(i) for i in mixed_list]\n",
        "    print(\"\\nList converted to integers:\", int_list)\n",
        "\n",
        "    # Convert all elements in the list to floats\n",
        "    float_list = [float(i) if isinstance(i, str) or isinstance(i, int) else i for i in mixed_list]\n",
        "    print(\"\\nList converted to floats:\", float_list)\n",
        "\n",
        "    # Convert all elements in the list to boolean (using Python's bool() function)\n",
        "    bool_list = [bool(i) for i in mixed_list]\n",
        "    print(\"\\nList converted to booleans:\", bool_list)\n",
        "\n",
        "# Run the function\n",
        "type_casting_with_list()"
      ],
      "metadata": {
        "id": "wvj3X-RGXGhX"
      },
      "execution_count": null,
      "outputs": []
    },
    {
      "cell_type": "code",
      "source": [
        "#11. Write a program that checks if a number is positive, negative, or zero.\n",
        "n=int(input(\"Enter any Number\"))\n",
        "if n > 0:\n",
        "  print(\"Number is positive\")\n",
        "elif n < 0:\n",
        "  print(\"Number is Negative\")\n",
        "else:\n",
        "  print(\"Number is Zero\")"
      ],
      "metadata": {
        "id": "6OTPZxkTXKzY"
      },
      "execution_count": null,
      "outputs": []
    },
    {
      "cell_type": "code",
      "source": [
        "#12. Write a for loop to print numbers from 1 to 10.\n",
        "for i in range(1,11):\n",
        "    print(i)"
      ],
      "metadata": {
        "id": "0cZuEa_SXLsP"
      },
      "execution_count": null,
      "outputs": []
    },
    {
      "cell_type": "code",
      "source": [
        "#13. Write a Python program to find the sum of all even numbers between 1 and 50.\n",
        "\n",
        "# Function to calculate the sum of all even numbers between 1 and 50\n",
        "def sum_of_even_numbers():\n",
        "    # Initialize the sum variable\n",
        "    sum_even = 0\n",
        "\n",
        "    # Loop through numbers from 1 to 50\n",
        "    for num in range(1, 51):\n",
        "        if num % 2 == 0:  # Check if the number is even\n",
        "            sum_even += num  # Add the even number to the sum\n",
        "\n",
        "    print(\"The sum of all even numbers between 1 and 50 is:\", sum_even)\n",
        "\n",
        "# Run the function\n",
        "sum_of_even_numbers()"
      ],
      "metadata": {
        "id": "NL6vuJDdYUsw"
      },
      "execution_count": null,
      "outputs": []
    },
    {
      "cell_type": "code",
      "source": [
        "#14. Write a program to reverse a string using a while loop.\n",
        "# Function to reverse a string using a while loop\n",
        "def reverse_string():\n",
        "    # Get user input\n",
        "    user_input = input(\"Enter a string to reverse: \")\n",
        "\n",
        "    # Initialize an empty string to store the reversed string\n",
        "    reversed_string = \"\"\n",
        "    index = len(user_input) - 1  # Start from the last character of the string\n",
        "\n",
        "    # Use a while loop to reverse the string\n",
        "    while index >= 0:\n",
        "        reversed_string += user_input[index]  # Append the character at index to the reversed string\n",
        "        index -= 1  # Move to the previous character\n",
        "\n",
        "    print(\"Reversed string:\", reversed_string)\n",
        "\n",
        "# Run the function\n",
        "reverse_string()"
      ],
      "metadata": {
        "id": "0PgEHgG_aT7Q"
      },
      "execution_count": null,
      "outputs": []
    },
    {
      "cell_type": "code",
      "source": [
        "#15. Write a Python program to calculate the factorial of a number provided by the user using a while loop.\n",
        "\n",
        "# Get input from the user\n",
        "num = int(input(\"Enter a number to calculate its factorial: \"))\n",
        "\n",
        "# Initialize variables\n",
        "factorial = 1\n",
        "i = 1\n",
        "\n",
        "# Check if the number is negative\n",
        "if num < 0:\n",
        "    print(\"Factorial does not exist for negative numbers.\")\n",
        "else:\n",
        "    # Calculate factorial using a while loop\n",
        "    while i <= num:\n",
        "        factorial *= i\n",
        "        i += 1\n",
        "\n",
        "    # Print the result\n",
        "    print(f\"The factorial of {num} is {factorial}.\")"
      ],
      "metadata": {
        "id": "MsxL4Z9taW-f"
      },
      "execution_count": null,
      "outputs": []
    }
  ]
}